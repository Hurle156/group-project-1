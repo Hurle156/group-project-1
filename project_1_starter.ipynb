{
 "cells": [
  {
   "cell_type": "code",
   "execution_count": null,
   "metadata": {},
   "outputs": [],
   "source": [
    "import pandas as pd\n",
    "import matplotlib.pyplot as plt\n",
    "import numpy as np\n",
    "lyft_df = pd.read_csv('Data_files/lyft.csv')\n",
    "rideshare_df = pd.read_csv('Data_files/rideshare_data.csv')\n",
    "uber_df = pd.read_csv('Data_files/uber.csv')\n"
   ]
  },
  {
   "cell_type": "code",
   "execution_count": null,
   "metadata": {},
   "outputs": [],
   "source": [
    "rideshare_df"
   ]
  },
  {
   "cell_type": "code",
   "execution_count": null,
   "metadata": {},
   "outputs": [],
   "source": [
    "#Spencer's code \n",
    "grouped_destination = rideshare_df.groupby(['destination'])\n",
    "dest_count = grouped_destination.count()\n",
    "dest_count['id'].plot(kind = 'bar', alpha = 0.75, align = 'center', color = 'r')\n",
    "plt.xlabel('Drop off Point')\n",
    "plt.ylabel('Number of Rides')\n",
    "plt.title('Number of Rides to Different Areas of Boston')\n",
    "plt.tight_layout()\n"
   ]
  },
  {
   "cell_type": "code",
   "execution_count": null,
   "metadata": {},
   "outputs": [],
   "source": [
    "lyft_count = lyft_df.groupby(['destination']).count()\n",
    "uber_count = uber_df.groupby(['destination']).count()\n",
    "merge_count = pd.DataFrame({'Uber':uber_count['id'], 'Lyft':lyft_count['id']})\n",
    "merge_count.plot(kind='bar', stacked =True, color = ['r','b'])\n",
    "plt.xlabel('Drop off point')\n",
    "plt.ylabel('Number of Rides')\n",
    "plt.title('Stacked Bar Chart of the Number of rides to each Drop off point for Lyft and Uber')\n",
    "plt.tight_layout()"
   ]
  },
  {
   "cell_type": "code",
   "execution_count": null,
   "metadata": {},
   "outputs": [],
   "source": [
    "#Adam's code\n",
    "\n",
    "#separating lyft and uber\n",
    "uber_values = rideshare_df['cab_type'] == 'Uber'\n",
    "uber_days = rideshare_df[uber_values]\n",
    "lyft_values = rideshare_df['cab_type'] == 'Lyft'\n",
    "lyft_days = rideshare_df[lyft_values]\n",
    "\n",
    "#grouping uber by day and plotting\n",
    "uber_days_grouped = uber_days.groupby(['day'])\n",
    "uber_day_count = uber_days_grouped.count() / 1000\n",
    "uber_day_count['id'].plot(kind = 'bar', alpha = 0.75, align = 'center', color = 'r')\n",
    "\n",
    "#grouping lyft by day and plotting\n",
    "lyft_days_grouped = lyft_days.groupby(['day'])\n",
    "lyft_day_count = lyft_days_grouped.count() / 1000\n",
    "lyft_day_count['id'].plot(kind = 'bar', alpha = 0.75, align = 'center', color = 'b')\n",
    "\n",
    "#labeling graph\n",
    "plt.xlabel('Day of Month')\n",
    "plt.ylabel('Number of Rides Per 1000')\n",
    "plt.title('Bar Chart of the Number of Rides Given for Lyft and Uber on Each Day of Month')\n",
    "plt.tight_layout()\n",
    "plt.legend(['Uber', 'Lyft'])\n"
   ]
  },
  {
   "cell_type": "code",
   "execution_count": null,
   "metadata": {},
   "outputs": [],
   "source": [
    "ride_split = (uber_day_count - lyft_day_count) / uber_day_count * 100\n",
    "ride_split['id'].plot(kind = 'bar', alpha = 0.75, align = 'center', color = 'g')\n",
    "\n",
    "plt.xlabel('Day of Month')\n",
    "plt.ylabel('Percent Difference')\n",
    "plt.title('Daily Percentage Difference Between Uber & Lfyt')\n",
    "plt.tight_layout()"
   ]
  },
  {
   "cell_type": "code",
   "execution_count": null,
   "metadata": {},
   "outputs": [],
   "source": []
  },
  {
   "cell_type": "code",
   "execution_count": null,
   "metadata": {},
   "outputs": [],
   "source": [
    "#Rory's code\n"
   ]
  },
  {
   "cell_type": "code",
   "execution_count": null,
   "metadata": {},
   "outputs": [],
   "source": []
  }
 ],
 "metadata": {
  "kernelspec": {
   "display_name": "Python 3",
   "language": "python",
   "name": "python3"
  },
  "language_info": {
   "codemirror_mode": {
    "name": "ipython",
    "version": 3
   },
   "file_extension": ".py",
   "mimetype": "text/x-python",
   "name": "python",
   "nbconvert_exporter": "python",
   "pygments_lexer": "ipython3",
   "version": "3.7.4"
  }
 },
 "nbformat": 4,
 "nbformat_minor": 2
}
