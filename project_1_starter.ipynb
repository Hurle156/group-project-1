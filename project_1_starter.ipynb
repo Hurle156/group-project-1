{
 "cells": [
  {
   "cell_type": "code",
   "execution_count": null,
   "metadata": {},
   "outputs": [],
   "source": [
    "import pandas as pd\n",
    "import matplotlib.pyplot as plt\n",
    "import numpy as np\n",
    "#lyft_df = pd.read_csv('Data_files/lyft.csv')\n",
    "#uber_df = pd.read_csv('Data_files/uber.csv')\n",
    "uber_lyft_df = pd.read_csv('Data_files/rideshare_data.csv')"
   ]
  },
  {
   "cell_type": "raw",
   "metadata": {},
   "source": []
  },
  {
   "cell_type": "code",
   "execution_count": null,
   "metadata": {},
   "outputs": [],
   "source": [
    "#Spencer's code \n"
   ]
  },
  {
   "cell_type": "code",
   "execution_count": null,
   "metadata": {},
   "outputs": [],
   "source": [
    "#Adam's code"
   ]
  },
  {
   "cell_type": "code",
   "execution_count": null,
   "metadata": {},
   "outputs": [],
   "source": [
    "#Rory's code\n",
    "uber_lyft_df.head()"
   ]
  },
  {
   "cell_type": "code",
   "execution_count": null,
   "metadata": {},
   "outputs": [],
   "source": [
    "#lyft_df.head()"
   ]
  },
  {
   "cell_type": "code",
   "execution_count": null,
   "metadata": {},
   "outputs": [],
   "source": [
    "# Final DataFrame\n",
    "final_uber_lyft_df = uber_lyft_df[[\"id\", \"cab_type\", \"name\", \"price\", \"distance\"]]\n",
    "final_uber_lyft_df.head()"
   ]
  },
  {
   "cell_type": "code",
   "execution_count": null,
   "metadata": {},
   "outputs": [],
   "source": [
    "# Sort DataFrame\n",
    "#final_uber_lyft_df.sort_values(['cab_type','name'], ascending=True)\n",
    "final_uber_lyft_df.sort_values(['cab_type','name'], ascending=[1,0])"
   ]
  },
  {
   "cell_type": "code",
   "execution_count": null,
   "metadata": {},
   "outputs": [],
   "source": [
    "#final_uber_lyft_df.describe"
   ]
  },
  {
   "cell_type": "code",
   "execution_count": null,
   "metadata": {},
   "outputs": [],
   "source": [
    "#final_lyft_df = lyft_df[[\"id\", \"cab_type\", \"name\", \"price\", \"distance\"]]\n",
    "#final_lyft_df.head()\n",
    "#final_uber_lyft_df.loc[final_uber_lyft_df['cab_type'] == \"Uber\"]\n",
    "#final_uber_lyft_df.loc[((final_uber_lyft_df['cab_type'] == \"Lyft\") | (final_uber_lyft_df['cab_type'] == \"Uber\"))\n",
    "#                      & ((final_uber_lyft_df['name'] == \"Lux\") | (final_uber_lyft_df['name'] == \"Lux Black XL\")\n",
    "#                      |  (final_uber_lyft_df['name'] == \"Lyft XL\") | (final_uber_lyft_df['name'] == \"UberX\")\n",
    "#                      |  (final_uber_lyft_df['name'] == \"Black SUV\") | (final_uber_lyft_df['name'] == \"UberXL\"))]\n",
    "final_uber_lyft_df.loc[((final_uber_lyft_df['cab_type'] == \"Lyft\") | (final_uber_lyft_df['cab_type'] == \"Uber\"))\n",
    "                      & ((final_uber_lyft_df['name'] != \"Shared\") & (final_uber_lyft_df['name'] != \"Taxi\")\n",
    "                      &  (final_uber_lyft_df['name'] != \"Lyft\") & (final_uber_lyft_df['name'] != \"Uber Pool\")\n",
    "                      &  (final_uber_lyft_df['name'] != \"WAV\"))]"
   ]
  },
  {
   "cell_type": "code",
   "execution_count": null,
   "metadata": {},
   "outputs": [],
   "source": [
    "type(final_uber_lyft_df)"
   ]
  },
  {
   "cell_type": "code",
   "execution_count": null,
   "metadata": {},
   "outputs": [],
   "source": []
  },
  {
   "cell_type": "code",
   "execution_count": null,
   "metadata": {},
   "outputs": [],
   "source": [
    "# Save as a csv\n",
    "# Note to avoid any issues later, use encoding=\"utf-8\"\n",
    "final_uber_lyft_df.to_csv(\"uber_lyft_filtered.csv\", encoding=\"utf-8\", index=False)"
   ]
  },
  {
   "cell_type": "code",
   "execution_count": null,
   "metadata": {},
   "outputs": [],
   "source": [
    "# Save as a csv\n",
    "# Note to avoid any issues later, use encoding=\"utf-8\"\n",
    "#final_lyft_df.to_csv(\"lyft_filtered.csv\", encoding=\"utf-8\", index=False)"
   ]
  },
  {
   "cell_type": "code",
   "execution_count": null,
   "metadata": {},
   "outputs": [],
   "source": [
    "# Merge the datasets using the same columns\n",
    "#uber_lyft_data = pd.merge(final_uber_df, final_lyft_df, how=\"left\", left_on=\"id\", right_on=\"State\")\n",
    "#uber_lyft_data = pd.merge(final_uber_df, final_lyft_df, how=\"left\", left_on=\"id\")\n",
    "\n",
    "# Save the updated dataframe as a csv\n",
    "#uber_lyft_data.to_csv(\"uber_lyft_merged_data.csv\", encoding=\"utf-8\", index=False)\n",
    "#uber_lyft_data.head()\n",
    "\n",
    "#booleans = []\n",
    "#for Vehicle_Type in uber_lyft_df['name'].head():\n",
    "#    if ((Vehicle_Type == \"Lux\" or Vehicle_Type == \"Lyft XL\")):\n",
    "#        booleans.append(True)\n",
    "#    else:\n",
    "#        booleans.append(False)"
   ]
  },
  {
   "cell_type": "code",
   "execution_count": null,
   "metadata": {},
   "outputs": [],
   "source": [
    "#booleans[0:5]"
   ]
  },
  {
   "cell_type": "code",
   "execution_count": null,
   "metadata": {},
   "outputs": [],
   "source": [
    "#is_lux = pd.Series(booleans)\n",
    "#is_lux.head()"
   ]
  },
  {
   "cell_type": "code",
   "execution_count": null,
   "metadata": {},
   "outputs": [],
   "source": [
    "#is_lux2 = final_uber_lyft_df.name == \"Lux\"\n",
    "#is_lux2.head()"
   ]
  },
  {
   "cell_type": "code",
   "execution_count": null,
   "metadata": {},
   "outputs": [],
   "source": [
    "#is_lux2"
   ]
  },
  {
   "cell_type": "code",
   "execution_count": null,
   "metadata": {},
   "outputs": [],
   "source": [
    "#final_uber_lyft_df.loc"
   ]
  },
  {
   "cell_type": "code",
   "execution_count": null,
   "metadata": {},
   "outputs": [],
   "source": []
  },
  {
   "cell_type": "code",
   "execution_count": null,
   "metadata": {},
   "outputs": [],
   "source": []
  },
  {
   "cell_type": "code",
   "execution_count": null,
   "metadata": {},
   "outputs": [],
   "source": [
    "x = final_uber_lyft_df['name']\n",
    "y = final_uber_lyft_df['price']\n",
    "#width = 0.25\n",
    "#x_indexes = np.arange(len(x))\n",
    "#plt.plot(x,y,label='First Line')\n",
    "#plt.(x_indexes, y, color=\"k\",width=width)\n",
    "final_uber_lyft_df.plot(kind='bar', align='center', color='b')\n",
    "plt.xlabel('Specific Cab Type/Name')\n",
    "plt.ylabel('Price')\n",
    "plt.title('Uber-Lyft data Lux-Black-XL only')\n",
    "#plt.legend()\n",
    "#plt.xticks(ticks=x_indexes, labels=x)\n",
    "#plt.show()"
   ]
  },
  {
   "cell_type": "raw",
   "metadata": {},
   "source": []
  },
  {
   "cell_type": "code",
   "execution_count": null,
   "metadata": {},
   "outputs": [],
   "source": []
  },
  {
   "cell_type": "code",
   "execution_count": null,
   "metadata": {},
   "outputs": [],
   "source": []
  },
  {
   "cell_type": "code",
   "execution_count": null,
   "metadata": {},
   "outputs": [],
   "source": []
  },
  {
   "cell_type": "code",
   "execution_count": null,
   "metadata": {},
   "outputs": [],
   "source": []
  }
 ],
 "metadata": {
  "kernelspec": {
   "display_name": "Python 3",
   "language": "python",
   "name": "python3"
  },
  "language_info": {
   "codemirror_mode": {
    "name": "ipython",
    "version": 3
   },
   "file_extension": ".py",
   "mimetype": "text/x-python",
   "name": "python",
   "nbconvert_exporter": "python",
   "pygments_lexer": "ipython3",
   "version": "3.7.4"
  }
 },
 "nbformat": 4,
 "nbformat_minor": 2
}
