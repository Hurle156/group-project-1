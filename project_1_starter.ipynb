{
 "cells": [
  {
   "cell_type": "code",
   "execution_count": 1,
   "metadata": {},
   "outputs": [],
   "source": [
    "#import statements\n",
    "import pandas as pd\n",
    "import matplotlib.pyplot as plt\n",
    "import numpy as np\n",
    "import scipy.stats as stats\n",
    "\n",
    "#load data sets into dataframes\n",
    "lyft_df = pd.read_csv('Data_files/lyft.csv')\n",
    "rideshare_df = pd.read_csv('Data_files/rideshare_data.csv')\n",
    "uber_df = pd.read_csv('Data_files/uber.csv')\n"
   ]
  },
  {
   "cell_type": "code",
   "execution_count": 7,
   "metadata": {},
   "outputs": [
    {
     "data": {
      "text/html": [
       "<div>\n",
       "<style scoped>\n",
       "    .dataframe tbody tr th:only-of-type {\n",
       "        vertical-align: middle;\n",
       "    }\n",
       "\n",
       "    .dataframe tbody tr th {\n",
       "        vertical-align: top;\n",
       "    }\n",
       "\n",
       "    .dataframe thead th {\n",
       "        text-align: right;\n",
       "    }\n",
       "</style>\n",
       "<table border=\"1\" class=\"dataframe\">\n",
       "  <thead>\n",
       "    <tr style=\"text-align: right;\">\n",
       "      <th></th>\n",
       "      <th>Unnamed: 0</th>\n",
       "      <th>id</th>\n",
       "      <th>hour</th>\n",
       "      <th>day</th>\n",
       "      <th>month</th>\n",
       "      <th>source</th>\n",
       "      <th>destination</th>\n",
       "      <th>cab_type</th>\n",
       "      <th>name</th>\n",
       "      <th>price</th>\n",
       "      <th>...</th>\n",
       "      <th>visibility</th>\n",
       "      <th>temperatureHigh</th>\n",
       "      <th>temperatureLow</th>\n",
       "      <th>dewPoint</th>\n",
       "      <th>windBearing</th>\n",
       "      <th>cloudCover</th>\n",
       "      <th>uvIndex</th>\n",
       "      <th>visibility.1</th>\n",
       "      <th>moonPhase</th>\n",
       "      <th>weekday</th>\n",
       "    </tr>\n",
       "  </thead>\n",
       "  <tbody>\n",
       "    <tr>\n",
       "      <th>0</th>\n",
       "      <td>1</td>\n",
       "      <td>424553bb-7174-41ea-aeb4-fe06d4f4b9d7</td>\n",
       "      <td>9</td>\n",
       "      <td>16</td>\n",
       "      <td>12</td>\n",
       "      <td>Haymarket Square</td>\n",
       "      <td>North Station</td>\n",
       "      <td>Lyft</td>\n",
       "      <td>Shared</td>\n",
       "      <td>5.0</td>\n",
       "      <td>...</td>\n",
       "      <td>10.000</td>\n",
       "      <td>43.68</td>\n",
       "      <td>34.19</td>\n",
       "      <td>32.70</td>\n",
       "      <td>57</td>\n",
       "      <td>0.72</td>\n",
       "      <td>0</td>\n",
       "      <td>10.000</td>\n",
       "      <td>0.30</td>\n",
       "      <td>Sun</td>\n",
       "    </tr>\n",
       "    <tr>\n",
       "      <th>1</th>\n",
       "      <td>2</td>\n",
       "      <td>4bd23055-6827-41c6-b23b-3c491f24e74d</td>\n",
       "      <td>2</td>\n",
       "      <td>27</td>\n",
       "      <td>11</td>\n",
       "      <td>Haymarket Square</td>\n",
       "      <td>North Station</td>\n",
       "      <td>Lyft</td>\n",
       "      <td>Lux</td>\n",
       "      <td>11.0</td>\n",
       "      <td>...</td>\n",
       "      <td>4.786</td>\n",
       "      <td>47.30</td>\n",
       "      <td>42.10</td>\n",
       "      <td>41.83</td>\n",
       "      <td>90</td>\n",
       "      <td>1.00</td>\n",
       "      <td>0</td>\n",
       "      <td>4.786</td>\n",
       "      <td>0.64</td>\n",
       "      <td>Tue</td>\n",
       "    </tr>\n",
       "    <tr>\n",
       "      <th>2</th>\n",
       "      <td>3</td>\n",
       "      <td>981a3613-77af-4620-a42a-0c0866077d1e</td>\n",
       "      <td>1</td>\n",
       "      <td>28</td>\n",
       "      <td>11</td>\n",
       "      <td>Haymarket Square</td>\n",
       "      <td>North Station</td>\n",
       "      <td>Lyft</td>\n",
       "      <td>Lyft</td>\n",
       "      <td>7.0</td>\n",
       "      <td>...</td>\n",
       "      <td>10.000</td>\n",
       "      <td>47.55</td>\n",
       "      <td>33.10</td>\n",
       "      <td>31.10</td>\n",
       "      <td>240</td>\n",
       "      <td>0.03</td>\n",
       "      <td>0</td>\n",
       "      <td>10.000</td>\n",
       "      <td>0.68</td>\n",
       "      <td>Wed</td>\n",
       "    </tr>\n",
       "    <tr>\n",
       "      <th>3</th>\n",
       "      <td>4</td>\n",
       "      <td>c2d88af2-d278-4bfd-a8d0-29ca77cc5512</td>\n",
       "      <td>4</td>\n",
       "      <td>30</td>\n",
       "      <td>11</td>\n",
       "      <td>Haymarket Square</td>\n",
       "      <td>North Station</td>\n",
       "      <td>Lyft</td>\n",
       "      <td>Lux Black XL</td>\n",
       "      <td>26.0</td>\n",
       "      <td>...</td>\n",
       "      <td>10.000</td>\n",
       "      <td>45.03</td>\n",
       "      <td>28.90</td>\n",
       "      <td>26.64</td>\n",
       "      <td>310</td>\n",
       "      <td>0.00</td>\n",
       "      <td>0</td>\n",
       "      <td>10.000</td>\n",
       "      <td>0.75</td>\n",
       "      <td>Fri</td>\n",
       "    </tr>\n",
       "    <tr>\n",
       "      <th>4</th>\n",
       "      <td>5</td>\n",
       "      <td>e0126e1f-8ca9-4f2e-82b3-50505a09db9a</td>\n",
       "      <td>3</td>\n",
       "      <td>29</td>\n",
       "      <td>11</td>\n",
       "      <td>Haymarket Square</td>\n",
       "      <td>North Station</td>\n",
       "      <td>Lyft</td>\n",
       "      <td>Lyft XL</td>\n",
       "      <td>9.0</td>\n",
       "      <td>...</td>\n",
       "      <td>10.000</td>\n",
       "      <td>42.18</td>\n",
       "      <td>36.71</td>\n",
       "      <td>28.61</td>\n",
       "      <td>303</td>\n",
       "      <td>0.44</td>\n",
       "      <td>0</td>\n",
       "      <td>10.000</td>\n",
       "      <td>0.72</td>\n",
       "      <td>Thu</td>\n",
       "    </tr>\n",
       "  </tbody>\n",
       "</table>\n",
       "<p>5 rows × 29 columns</p>\n",
       "</div>"
      ],
      "text/plain": [
       "   Unnamed: 0                                    id  hour  day  month  \\\n",
       "0           1  424553bb-7174-41ea-aeb4-fe06d4f4b9d7     9   16     12   \n",
       "1           2  4bd23055-6827-41c6-b23b-3c491f24e74d     2   27     11   \n",
       "2           3  981a3613-77af-4620-a42a-0c0866077d1e     1   28     11   \n",
       "3           4  c2d88af2-d278-4bfd-a8d0-29ca77cc5512     4   30     11   \n",
       "4           5  e0126e1f-8ca9-4f2e-82b3-50505a09db9a     3   29     11   \n",
       "\n",
       "             source    destination cab_type          name  price  ...  \\\n",
       "0  Haymarket Square  North Station     Lyft        Shared    5.0  ...   \n",
       "1  Haymarket Square  North Station     Lyft           Lux   11.0  ...   \n",
       "2  Haymarket Square  North Station     Lyft          Lyft    7.0  ...   \n",
       "3  Haymarket Square  North Station     Lyft  Lux Black XL   26.0  ...   \n",
       "4  Haymarket Square  North Station     Lyft       Lyft XL    9.0  ...   \n",
       "\n",
       "   visibility  temperatureHigh  temperatureLow  dewPoint windBearing  \\\n",
       "0      10.000            43.68           34.19     32.70          57   \n",
       "1       4.786            47.30           42.10     41.83          90   \n",
       "2      10.000            47.55           33.10     31.10         240   \n",
       "3      10.000            45.03           28.90     26.64         310   \n",
       "4      10.000            42.18           36.71     28.61         303   \n",
       "\n",
       "   cloudCover  uvIndex  visibility.1  moonPhase  weekday  \n",
       "0        0.72        0        10.000       0.30      Sun  \n",
       "1        1.00        0         4.786       0.64      Tue  \n",
       "2        0.03        0        10.000       0.68      Wed  \n",
       "3        0.00        0        10.000       0.75      Fri  \n",
       "4        0.44        0        10.000       0.72      Thu  \n",
       "\n",
       "[5 rows x 29 columns]"
      ]
     },
     "execution_count": 7,
     "metadata": {},
     "output_type": "execute_result"
    }
   ],

  },
  {
   "cell_type": "code",
   "execution_count": 3,
   "metadata": {},
   "outputs": [
    {
     "data": {
      "image/png": "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\n",
      "text/plain": [
       "<Figure size 432x288 with 1 Axes>"
      ]
     },
     "metadata": {
      "needs_background": "light"
     },
     "output_type": "display_data"
    }
   ],
   "source": [
    "#Spencer's code \n",
    "#group by destination and get counts to create a bar graph that will show what frequently each destination in used.\n",
    "grouped_destination = rideshare_df.groupby(['destination'])\n",
    "dest_count = grouped_destination.count()\n",
    "#simple bar graph created with title and labels\n",
    "dest_count['id'].plot(kind = 'bar', alpha = 0.75, align = 'center', color = 'k')\n",
    "plt.xlabel('Drop off Point')\n",
    "plt.ylabel('Number of Rides')\n",
    "plt.title('Number of Rides to Different \\n Areas of Boston')\n",
    "plt.savefig('destination.png')\n"
   ]
  },
  {
   "cell_type": "code",
   "execution_count": 4,
   "metadata": {},
   "outputs": [
    {
     "data": {
      "text/plain": [
       "Power_divergenceResult(statistic=30.554149574863185, pvalue=0.0012960638184287632)"
      ]
     },
     "execution_count": 4,
     "metadata": {},
     "output_type": "execute_result"
    }
   ],
   "source": [
    "#chi-squared test on whether some destinations see more ride share traffic than others\n",
    "#create dataframe of the observed values for each drop off point\n",
    "chi_full_data = pd.DataFrame({'observed ride count':dest_count['id']})\n",
    "#create variables that will that will calculate expected values, assuming there is no difference between drop off points \n",
    "dest_total = len(chi_full_data)\n",
    "total_trips = chi_full_data['observed ride count'].sum()\n",
    "#Add expected values to dataframe\n",
    "chi_full_data['Expected ride count'] = total_trips / dest_total\n",
    "#run chi-squared test\n",
    "stats.chisquare(chi_full_data['observed ride count'], chi_full_data['Expected ride count'])"
   ]
  },
  {
   "cell_type": "code",
   "execution_count": 5,
   "metadata": {},
   "outputs": [
    {
     "data": {
      "image/png": "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\n",
      "text/plain": [
       "<Figure size 432x288 with 1 Axes>"
      ]
     },
     "metadata": {
      "needs_background": "light"
     },
     "output_type": "display_data"
    }
   ],
   "source": [
    "#create a a dataframe with the total count uber and lyft drop off points\n",
    "lyft_count = lyft_df.groupby(['destination']).count()\n",
    "uber_count = uber_df.groupby(['destination']).count()\n",
    "merge_count = pd.DataFrame({'Uber':uber_count['id'], 'Lyft':lyft_count['id']})\n",
    "#created stack graph to show how many dropoffs each service complete in each destination\n",
    "merge_count.plot(kind='bar', stacked =True, color = ['k','r'], alpha = .75)\n",
    "plt.xlabel('Drop off point')\n",
    "plt.ylabel('Number of Rides')\n",
    "plt.title('Stacked Bar Chart of the Number of rides to each \\n Drop off point for Lyft and Uber')\n",
    "plt.tight_layout()\n",
    "plt.savefig('stacked_destination.png')"
   ]
  },
  {
   "cell_type": "code",
   "execution_count": 6,
   "metadata": {},
   "outputs": [
    {
     "data": {
      "text/plain": [
       "Power_divergenceResult(statistic=11.523595936361893, pvalue=0.40049567568513944)"
      ]
     },
     "execution_count": 6,
     "metadata": {},
     "output_type": "execute_result"
    }
   ],
   "source": [
    "#run chi_squared test to see if the difference between services is expected or not\n",
    "#calculate observed difference in drop offs by each service in each destination\n",
    "merge_count['observed difference'] = merge_count['Uber']-merge_count['Lyft']\n",
    "#calculate expected difference between the two services in each area if destination has no affect\n",
    "difference_total = merge_count['observed difference'].sum()\n",
    "expected = difference_total / dest_total\n",
    "merge_count['expected difference'] = expected\n",
    "#run chi-squared test\n",
    "stats.chisquare(merge_count['observed difference'], merge_count['expected difference'])"
   ]
  },
  {
   "cell_type": "code",
   "execution_count": null,
   "metadata": {},
   "outputs": [],
   "source": [
    "#Adam's code\n",
    "\n",
    "#separating lyft and uber\n",
    "uber_values = rideshare_df['cab_type'] == 'Uber'\n",
    "uber_days = rideshare_df[uber_values]\n",
    "lyft_values = rideshare_df['cab_type'] == 'Lyft'\n",
    "lyft_days = rideshare_df[lyft_values]\n",
    "\n",
    "#grouping uber by day and plotting\n",
    "uber_days_grouped = uber_days.groupby(['day'])\n",
    "uber_day_count = uber_days_grouped.count() / 1000\n",
    "uber_day_count['id'].plot(kind = 'bar', alpha = 0.75, align = 'center', color = 'r')\n",
    "\n",
    "#grouping lyft by day and plotting\n",
    "lyft_days_grouped = lyft_days.groupby(['day'])\n",
    "lyft_day_count = lyft_days_grouped.count() / 1000\n",
    "lyft_day_count['id'].plot(kind = 'bar', alpha = 0.75, align = 'center', color = 'b')\n",
    "\n",
    "#labeling graph\n",
    "plt.xlabel('Day of Month')\n",
    "plt.ylabel('Number of Rides Per 1000')\n",
    "plt.title('Bar Chart of the Number of Rides Given for Lyft and Uber on Each Day of Month')\n",
    "plt.tight_layout()\n",
    "plt.legend(['Uber', 'Lyft'])\n"
   ]
  },
  {
   "cell_type": "code",
   "execution_count": null,
   "metadata": {},
   "outputs": [],
   "source": [
    "ride_split = (uber_day_count - lyft_day_count) / uber_day_count * 100\n",
    "ride_split['id'].plot(kind = 'bar', alpha = 0.75, align = 'center', color = 'g')\n",
    "\n",
    "plt.xlabel('Day of Month')\n",
    "plt.ylabel('Percent Difference')\n",
    "plt.title('Daily Percentage Difference Between Uber & Lfyt')\n",
    "plt.tight_layout()"
   ]
  },
  {
   "cell_type": "code",
   "execution_count": null,
   "metadata": {},
   "outputs": [],
   "source": []
  },
  {
   "cell_type": "code",
   "execution_count": null,
   "metadata": {},
   "outputs": [],
   "source": [
    "#Rory's code\n"
   ]
  },
  {
   "cell_type": "code",
   "execution_count": null,
   "metadata": {},
   "outputs": [],
   "source": []
  }
 ],
 "metadata": {
  "kernelspec": {
   "display_name": "Python 3",
   "language": "python",
   "name": "python3"
  },
  "language_info": {
   "codemirror_mode": {
    "name": "ipython",
    "version": 3
   },
   "file_extension": ".py",
   "mimetype": "text/x-python",
   "name": "python",
   "nbconvert_exporter": "python",
   "pygments_lexer": "ipython3",
   "version": "3.7.4"
  }
 },
 "nbformat": 4,
 "nbformat_minor": 2
}
