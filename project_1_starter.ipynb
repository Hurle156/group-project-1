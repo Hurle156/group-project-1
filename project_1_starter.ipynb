{
 "cells": [
  {
   "cell_type": "code",
   "execution_count": null,
   "metadata": {},
   "outputs": [],
   "source": [
    "#import statements\n",
    "import pandas as pd\n",
    "import matplotlib.pyplot as plt\n",
    "import numpy as np\n",
    "import scipy.stats as stats\n",
    "\n",
    "#load data sets into dataframes\n",
    "lyft_df = pd.read_csv('Data_files/lyft.csv')\n",
    "rideshare_df = pd.read_csv('Data_files/rideshare_data.csv')\n",
    "uber_df = pd.read_csv('Data_files/uber.csv')"
   ]
  },
  {
   "cell_type": "code",
   "execution_count": null,
   "metadata": {},
   "outputs": [],
   "source": [
    "#check headers for variable names\n",
    "rideshare_df.head()"
   ]
  },
  {
   "cell_type": "code",
   "execution_count": null,
   "metadata": {},
   "outputs": [],
   "source": [
    "#Adam's code\n",
    "#There were a couple outliers in days around Christmas with a small fraction of total traffic that skewed data.\n",
    "#remove columns 4,9,& 10 from data sets as those days were outliers with very low ride volume.\n",
    "booleans = []\n",
    "for day in rideshare_df.day:\n",
    "    if day < 4:\n",
    "        booleans.append(True)\n",
    "    elif day > 10:\n",
    "        booleans.append(True)\n",
    "    else:\n",
    "        booleans.append(False)\n",
    "day_check = pd.Series(booleans)\n",
    "rideshare_adj = rideshare_df[day_check]"
   ]
  },
  {
   "cell_type": "code",
   "execution_count": null,
   "metadata": {},
   "outputs": [],
   "source": [
    "#separating lyft and uber and creating stacked chart showing volumes.\n",
    "uber_values = rideshare_adj['cab_type'] == 'Uber'\n",
    "uber_days = rideshare_adj[uber_values]\n",
    "lyft_values = rideshare_adj['cab_type'] == 'Lyft'\n",
    "lyft_days = rideshare_adj[lyft_values]\n",
    "#grouping uber by day and plotting\n",
    "uber_days_grouped = uber_days.groupby(['day'])\n",
    "uber_day_count = uber_days_grouped.count() / 1000\n",
    "uber_day_count['id'].plot(kind = 'bar', alpha = 0.75, align = 'center', color = 'r')\n",
    "#grouping lyft by day and plotting\n",
    "lyft_days_grouped = lyft_days.groupby(['day'])\n",
    "lyft_day_count = lyft_days_grouped.count() / 1000\n",
    "lyft_day_count['id'].plot(kind = 'bar', alpha = 0.75, align = 'center', color = 'b')\n",
    "#labeling graph\n",
    "plt.xlabel('Day of Month')\n",
    "plt.ylabel('Number of Rides Per 1000')\n",
    "plt.title('Bar Chart of the Number of Rides Given for Lyft and Uber on Each Day of Month')\n",
    "plt.tight_layout()\n",
    "plt.legend(['Uber', 'Lyft'])"
   ]
  },
  {
   "cell_type": "code",
   "execution_count": null,
   "metadata": {},
   "outputs": [],
   "source": [
    "# as uber maintained a constant lead in volume, I wanted to check if there was a relation between total volume\n",
    "# and market shareduring those periods.\n",
    "#use line graph to show values and % change during days.\n",
    "ride_percent = (uber_day_count - lyft_day_count) / lyft_day_count * 100\n",
    "#lines = df.plot.line()\n",
    "lyft_line = lyft_day_count['id'].plot.line()\n",
    "uber_line = uber_day_count['id'].plot.line()\n",
    "ride_percent_line = ride_percent['id'].plot.line()\n",
    "plt.xlabel('Day of Month')\n",
    "plt.ylabel('Percent of Marker Uber over Lyft')\n",
    "plt.title('Line Chart Relating Uber/Lyft Traffic Volume and Days')\n",
    "plt.legend(['Lyft', 'Uber', 'Percentage'])"
   ]
  },
  {
   "cell_type": "code",
   "execution_count": null,
   "metadata": {},
   "outputs": [],
   "source": [
    "#chi-squared test on whether some days see higher change in ride share traffic than others\n",
    "#create dataframe of the observed values for each drop off point\n",
    "chi_all_ride_data = pd.DataFrame({'all days count':uber_day_count['id']})\n",
    "#create variables that will that will calculate expected values, assuming there is no difference between drop off points\n",
    "day_total = len(chi_all_ride_data)\n",
    "total_rides = chi_all_ride_data['all days count'].sum()\n",
    "#Add expected values to dataframe\n",
    "chi_all_ride_data['Expected ride amount'] = total_rides / day_total\n",
    "#chi-squared test\n",
    "stats.chisquare(chi_all_ride_data['all days count'], chi_all_ride_data['Expected ride amount'])"
   ]
  },
  {
   "cell_type": "code",
   "execution_count": null,
   "metadata": {},
   "outputs": [],
   "source": [
    "#Spencer's code \n",
    "#group by destination and get counts to create a bar graph that will show what frequently each destination in used.\n",
    "grouped_destination = rideshare_df.groupby(['destination'])\n",
    "dest_count = grouped_destination.count()\n",
    "#simple bar graph created with title and labels\n",
    "dest_count['id'].plot(kind = 'bar', alpha = 0.75, align = 'center', color = 'k')\n",
    "plt.xlabel('Drop off Point')\n",
    "plt.ylabel('Number of Rides')\n",
    "plt.title('Number of Rides to Different \\n Areas of Boston')\n",
    "plt.savefig('destination.png')"
   ]
  },
  {
   "cell_type": "code",
   "execution_count": null,
   "metadata": {},
   "outputs": [],
   "source": [
    "#chi-squared test on whether some destinations see more ride share traffic than others\n",
    "#create dataframe of the observed values for each drop off point\n",
    "chi_full_data = pd.DataFrame({'observed ride count':dest_count['id']})\n",
    "#create variables that will that will calculate expected values, assuming there is no difference between drop off points \n",
    "dest_total = len(chi_full_data)\n",
    "total_trips = chi_full_data['observed ride count'].sum()\n",
    "#Add expected values to dataframe\n",
    "chi_full_data['Expected ride count'] = total_trips / dest_total\n",
    "#run chi-squared test\n",
    "stats.chisquare(chi_full_data['observed ride count'], chi_full_data['Expected ride count'])"
   ]
  },
  {
   "cell_type": "code",
   "execution_count": null,
   "metadata": {},
   "outputs": [],
   "source": [
    "#create a a dataframe with the total count uber and lyft drop off points\n",
    "lyft_count = lyft_df.groupby(['destination']).count()\n",
    "uber_count = uber_df.groupby(['destination']).count()\n",
    "merge_count = pd.DataFrame({'Uber':uber_count['id'], 'Lyft':lyft_count['id']})\n",
    "#created stack graph to show how many dropoffs each service complete in each destination\n",
    "merge_count.plot(kind='bar', stacked =True, color = ['k','r'], alpha = .75)\n",
    "plt.xlabel('Drop off point')\n",
    "plt.ylabel('Number of Rides')\n",
    "plt.title('Stacked Bar Chart of the Number of rides to each \\n Drop off point for Lyft and Uber')\n",
    "plt.tight_layout()\n",
    "plt.savefig('stacked_destination.png')"
   ]
  },
  {
   "cell_type": "code",
   "execution_count": null,
   "metadata": {},
   "outputs": [],
   "source": [
    "#run chi_squared test to see if the difference between services is expected or not\n",
    "#calculate observed difference in drop offs by each service in each destination\n",
    "merge_count['observed difference'] = merge_count['Uber']-merge_count['Lyft']\n",
    "#calculate expected difference between the two services in each area if destination has no affect\n",
    "difference_total = merge_count['observed difference'].sum()\n",
    "expected = difference_total / dest_total\n",
    "merge_count['expected difference'] = expected\n",
    "#run chi-squared test\n",
    "stats.chisquare(merge_count['observed difference'], merge_count['expected difference'])"
   ]
  },
  {
   "cell_type": "code",
   "execution_count": null,
   "metadata": {},
   "outputs": [],
   "source": [
    "#Rory's code\n",
    "rideshare_df.head()"
   ]
  },
  {
   "cell_type": "code",
   "execution_count": null,
   "metadata": {},
   "outputs": [],
   "source": [
    "# Final DataFrame\n",
    "final_uber_lyft_df = rideshare_df[[\"id\", \"cab_type\", \"name\", \"price\", \"distance\"]]\n",
    "final_uber_lyft_df.head()"
   ]
  },
  {
   "cell_type": "code",
   "execution_count": null,
   "metadata": {},
   "outputs": [],
   "source": [
    "# Sort DataFrame\n",
    "#final_uber_lyft_df.sort_values(['cab_type','name'], ascending=True)\n",
    "final_uber_lyft_df.sort_values(['cab_type','name'], ascending=[1,0])"
   ]
  },
  {
   "cell_type": "code",
   "execution_count": null,
   "metadata": {},
   "outputs": [],
   "source": [
    "final_uber_lyft_df = final_uber_lyft_df.loc[  (final_uber_lyft_df['name'] != \"Shared\") \n",
    "                       & (final_uber_lyft_df['name'] != \"Taxi\")\n",
    "                       & (final_uber_lyft_df['name'] != \"Lyft\") \n",
    "                       & (final_uber_lyft_df['name'] != \"UberPool\")\n",
    "                       & (final_uber_lyft_df['name'] != \"WAV\")]"
   ]
  },
  {
   "cell_type": "code",
   "execution_count": null,
   "metadata": {},
   "outputs": [],
   "source": [
    "grouped_df = final_uber_lyft_df.groupby(['name']).mean()"
   ]
  },
  {
   "cell_type": "code",
   "execution_count": null,
   "metadata": {},
   "outputs": [],
   "source": [
    "width = 0.25\n",
    "grouped_df['price'].plot(kind = 'bar', color = 'k', width=width)\n"
   ]
  },
  {
   "cell_type": "code",
   "execution_count": null,
   "metadata": {},
   "outputs": [],
   "source": [
    "x = final_uber_lyft_df['name']\n",
    "y = final_uber_lyft_df['price']\n",
    "grouped_df.plot(kind='bar', align='center', color=['b','r'])\n",
    "plt.xlabel('Specific Cab Type/Name')\n",
    "plt.ylabel('Price')\n",
    "plt.title('Uber-Lyft data Lux-Black-XL only')\n"
   ]
  },
  {
   "cell_type": "code",
   "execution_count": null,
   "metadata": {},
   "outputs": [],
   "source": [
    "data2 = {\"Uber X\":10, \"Lyft Lux\":18,\"Uber Black\":20, \"Lyft Lux Black\":23,\n",
    "         \"Uber XL\":15, \"Lyft XL\":15,\"Uber SUV\":30, \"Lyft Lux Black XL\":31}\n",
    "s2 = pd.Series(data2)"
   ]
  },
  {
   "cell_type": "code",
   "execution_count": null,
   "metadata": {},
   "outputs": [],
   "source": [
    "s2.plot.bar()"
   ]
  },
  {
   "cell_type": "code",
   "execution_count": null,
   "metadata": {},
   "outputs": [],
   "source": []
  }
 ],
 "metadata": {
  "kernelspec": {
   "display_name": "Python 3",
   "language": "python",
   "name": "python3"
  },
  "language_info": {
   "codemirror_mode": {
    "name": "ipython",
    "version": 3
   },
   "file_extension": ".py",
   "mimetype": "text/x-python",
   "name": "python",
   "nbconvert_exporter": "python",
   "pygments_lexer": "ipython3",
   "version": "3.6.9"
  }
 },
 "nbformat": 4,
 "nbformat_minor": 2
}
