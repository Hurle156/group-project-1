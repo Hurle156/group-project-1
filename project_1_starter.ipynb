{
 "cells": [
  {
   "cell_type": "code",
   "execution_count": 1,
   "metadata": {},
   "outputs": [],
   "source": [
    "#import statements\n",
    "import pandas as pd\n",
    "import matplotlib.pyplot as plt\n",
    "import numpy as np\n",

    "import scipy.stats as stats\n",
    "\n",
    "#load data sets into dataframes\n",
    "lyft_df = pd.read_csv('Data_files/lyft.csv')\n",
    "rideshare_df = pd.read_csv('Data_files/rideshare_data.csv')\n",

    "uber_df = pd.read_csv('Data_files/uber.csv')"
   ]



  },
  {
   "cell_type": "code",
   "execution_count": 3,
   "metadata": {},
   "outputs": [
    {
     "data": {
      "image/png": "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\n",
      "text/plain": [
       "<Figure size 432x288 with 1 Axes>"
      ]
     },
     "metadata": {
      "needs_background": "light"
     },
     "output_type": "display_data"
    }
   ],
   "source": [

    "#check headers for variable names\n",
    "rideshare_df.head()"


   ]
  },
  {
   "cell_type": "code",
   "execution_count": 4,
   "metadata": {},

   "outputs": [],
   "source": []


  },
  {
   "cell_type": "code",
   "execution_count": null,
   "metadata": {},
   "outputs": [],
   "source": [
    "#Adam's code\n",
    "\n",
    "#separating lyft and uber\n",
    "uber_values = rideshare_df['cab_type'] == 'Uber'\n",
    "uber_days = rideshare_df[uber_values]\n",
    "lyft_values = rideshare_df['cab_type'] == 'Lyft'\n",
    "lyft_days = rideshare_df[lyft_values]\n",
    "\n",
    "#grouping uber by day and plotting\n",
    "uber_days_grouped = uber_days.groupby(['day'])\n",
    "uber_day_count = uber_days_grouped.count() / 1000\n",
    "uber_day_count['id'].plot(kind = 'bar', alpha = 0.75, align = 'center', color = 'r')\n",
    "\n",
    "#grouping lyft by day and plotting\n",
    "lyft_days_grouped = lyft_days.groupby(['day'])\n",
    "lyft_day_count = lyft_days_grouped.count() / 1000\n",
    "lyft_day_count['id'].plot(kind = 'bar', alpha = 0.75, align = 'center', color = 'b')\n",
    "\n",
    "#labeling graph\n",
    "plt.xlabel('Day of Month')\n",
    "plt.ylabel('Number of Rides Per 1000')\n",
    "plt.title('Bar Chart of the Number of Rides Given for Lyft and Uber on Each Day of Month')\n",
    "plt.tight_layout()\n",
    "plt.legend(['Uber', 'Lyft'])\n"

   ]
  },
  {
   "cell_type": "code",
   "execution_count": null,
   "metadata": {},
   "outputs": [],
   "source": [

    "ride_split = (uber_day_count - lyft_day_count) / lyft_day_count * 100\n",
    "ride_split['id'].plot(kind = 'bar', alpha = 0.75, align = 'center', color = 'g')\n",
    "\n",
    "plt.xlabel('Day of Month')\n",
    "plt.ylim(20,30)\n",
    "plt.ylabel('Percent Difference')\n",
    "plt.title('Higher Percentage of Daily Uber Usage vs Lyft')\n",
    "plt.tight_layout()"

   ]
  },
  {
   "cell_type": "code",
   "execution_count": null,
   "metadata": {},
   "outputs": [],
   "source": []
  },
  {
   "cell_type": "code",
   "execution_count": null,
   "metadata": {},
   "outputs": [],
   "source": [

    "#Spencer's code \n",
    "#group by destination and get counts to create a bar graph that will show what frequently each destination in used.\n",
    "grouped_destination = rideshare_df.groupby(['destination'])\n",
    "dest_count = grouped_destination.count()\n",
    "#simple bar graph created with title and labels\n",
    "dest_count['id'].plot(kind = 'bar', alpha = 0.75, align = 'center', color = 'k')\n",
    "plt.xlabel('Drop off Point')\n",
    "plt.ylabel('Number of Rides')\n",
    "plt.title('Number of Rides to Different \\n Areas of Boston')\n",
    "plt.savefig('destination.png')"

   ]
  },
  {
   "cell_type": "code",
   "execution_count": null,
   "metadata": {},
   "outputs": [],
   "source": [

    "#chi-squared test on whether some destinations see more ride share traffic than others\n",
    "#create dataframe of the observed values for each drop off point\n",
    "chi_full_data = pd.DataFrame({'observed ride count':dest_count['id']})\n",
    "#create variables that will that will calculate expected values, assuming there is no difference between drop off points \n",
    "dest_total = len(chi_full_data)\n",
    "total_trips = chi_full_data['observed ride count'].sum()\n",
    "#Add expected values to dataframe\n",
    "chi_full_data['Expected ride count'] = total_trips / dest_total\n",
    "#run chi-squared test\n",
    "stats.chisquare(chi_full_data['observed ride count'], chi_full_data['Expected ride count'])"
   ]
  },
  {
   "cell_type": "code",
   "execution_count": null,
   "metadata": {},
   "outputs": [],
   "source": [
    "#create a a dataframe with the total count uber and lyft drop off points\n",
    "lyft_count = lyft_df.groupby(['destination']).count()\n",
    "uber_count = uber_df.groupby(['destination']).count()\n",
    "merge_count = pd.DataFrame({'Uber':uber_count['id'], 'Lyft':lyft_count['id']})\n",
    "#created stack graph to show how many dropoffs each service complete in each destination\n",
    "merge_count.plot(kind='bar', stacked =True, color = ['k','r'], alpha = .75)\n",
    "plt.xlabel('Drop off point')\n",
    "plt.ylabel('Number of Rides')\n",
    "plt.title('Stacked Bar Chart of the Number of rides to each \\n Drop off point for Lyft and Uber')\n",
    "plt.tight_layout()\n",
    "plt.savefig('stacked_destination.png')"

   ]
  },
  {
   "cell_type": "code",
   "execution_count": null,
   "metadata": {},
   "outputs": [],
   "source": [

    "# Final DataFrame\n",
    "final_uber_lyft_df = rideshare_df[[\"id\", \"cab_type\", \"name\", \"price\", \"distance\"]]\n",
    "final_uber_lyft_df.head()"
   ]
  },
  {
   "cell_type": "code",
   "execution_count": null,
   "metadata": {},
   "outputs": [],
   "source": [
    "# Sort DataFrame\n",
    "#final_uber_lyft_df.sort_values(['cab_type','name'], ascending=True)\n",
    "final_uber_lyft_df.sort_values(['cab_type','name'], ascending=[1,0])"
   ]
  },
  {
   "cell_type": "code",
   "execution_count": null,
   "metadata": {},
   "outputs": [],
   "source": []
  },
  {
   "cell_type": "code",
   "execution_count": null,
   "metadata": {},
   "outputs": [],
   "source": [
    "final_uber_lyft_df = final_uber_lyft_df.loc[  (final_uber_lyft_df['name'] != \"Shared\") \n",
    "                       & (final_uber_lyft_df['name'] != \"Taxi\")\n",
    "                       & (final_uber_lyft_df['name'] != \"Lyft\") \n",
    "                       & (final_uber_lyft_df['name'] != \"UberPool\")\n",
    "                       & (final_uber_lyft_df['name'] != \"WAV\")]"
   ]
  },
  {
   "cell_type": "code",
   "execution_count": null,
   "metadata": {},
   "outputs": [],
   "source": []
  },
  {
   "cell_type": "code",
   "execution_count": null,
   "metadata": {},
   "outputs": [],
   "source": [
    "# Save as a csv\n",
    "# Note to avoid any issues later, use encoding=\"utf-8\"\n",
    "final_uber_lyft_df.to_csv(\"uber_lyft_filtered.csv\", encoding=\"utf-8\", index=False)"
   ]
  },
  {
   "cell_type": "code",
   "execution_count": null,
   "metadata": {},
   "outputs": [],
   "source": []
  },
  {
   "cell_type": "code",
   "execution_count": null,
   "metadata": {},
   "outputs": [],
   "source": [
    "grouped_df = final_uber_lyft_df.groupby(['name']).mean()"
   ]
  },
  {
   "cell_type": "code",
   "execution_count": null,
   "metadata": {},
   "outputs": [],
   "source": [
    "width = 0.25\n",
    "grouped_df['price'].plot(kind = 'bar', color = 'k', width=width)"
   ]
  },
  {
   "cell_type": "code",
   "execution_count": null,
   "metadata": {},
   "outputs": [],
   "source": [
    "#grouped_df['distance'].plot(kind = 'bar', color = 'k')"

    "#run chi_squared test to see if the difference between services is expected or not\n",
    "#calculate observed difference in drop offs by each service in each destination\n",
    "merge_count['observed difference'] = merge_count['Uber']-merge_count['Lyft']\n",
    "#calculate expected difference between the two services in each area if destination has no affect\n",
    "difference_total = merge_count['observed difference'].sum()\n",
    "expected = difference_total / dest_total\n",
    "merge_count['expected difference'] = expected\n",
    "#run chi-squared test\n",
    "stats.chisquare(merge_count['observed difference'], merge_count['expected difference'])"

   ]
  },
  {
   "cell_type": "code",
   "execution_count": null,
   "metadata": {},
   "outputs": [],
   "source": []
  },
  {
   "cell_type": "code",
   "execution_count": null,
   "metadata": {},
   "outputs": [],
   "source": []
  },
  {
   "cell_type": "code",
   "execution_count": null,
   "metadata": {},
   "outputs": [],
   "source": [
    "x = final_uber_lyft_df['name']\n",
    "y = final_uber_lyft_df['price']\n",
    "#width = 0.25\n",
    "#x_indexes = np.arange(len(x))\n",
    "#plt.plot(x,y,label='First Line')\n",
    "#plt.(x_indexes, y, color=\"k\",width=width)\n",
    "grouped_df.plot(kind='bar', align='center', color='b')\n",
    "plt.xlabel('Specific Cab Type/Name')\n",
    "plt.ylabel('Price')\n",
    "plt.title('Uber-Lyft data Lux-Black-XL only')\n",
    "#plt.legend()\n",
    "#plt.xticks(ticks=x_indexes, labels=x)\n",
    "#plt.show()"
   ]
  },
  {
   "cell_type": "code",
   "execution_count": null,
   "metadata": {},
   "outputs": [],
   "source": []
  }
 ],
 "metadata": {
  "kernelspec": {
   "display_name": "Python 3",
   "language": "python",
   "name": "python3"
  },
  "language_info": {
   "codemirror_mode": {
    "name": "ipython",
    "version": 3
   },
   "file_extension": ".py",
   "mimetype": "text/x-python",
   "name": "python",
   "nbconvert_exporter": "python",
   "pygments_lexer": "ipython3",
   "version": "3.7.4"
  }
 },
 "nbformat": 4,
 "nbformat_minor": 2
}
