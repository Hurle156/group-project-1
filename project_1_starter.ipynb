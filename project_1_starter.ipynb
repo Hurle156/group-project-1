{
 "cells": [
  {
   "cell_type": "code",
   "execution_count": null,
   "metadata": {},
   "outputs": [],
   "source": [
    "import pandas as pd\n",
    "import matplotlib.pyplot as plt\n",
    "import numpy as np\n",
    "import scipy.stats as stats\n",
    "\n",
    "#load data sets into dataframes\n",
    "lyft_df = pd.read_csv('Data_files/lyft.csv')\n",
    "rideshare_df = pd.read_csv('Data_files/rideshare_data.csv')\n",
    "uber_df = pd.read_csv('Data_files/uber.csv')"
   ]
  },
  {
   "cell_type": "code",
   "execution_count": null,
   "metadata": {},
   "outputs": [],
   "source": [
    "#check headers for variable names\n",
    "rideshare_df.head()"
   ]
  },
  {
   "cell_type": "code",
   "execution_count": null,
   "metadata": {},
   "outputs": [],
   "source": []
  },
  {
   "cell_type": "code",
   "execution_count": null,
   "metadata": {},
   "outputs": [],
   "source": [
    "#Adam's code\n",
    "\n",
    "#separating lyft and uber\n",
    "uber_values = rideshare_df['cab_type'] == 'Uber'\n",
    "uber_days = rideshare_df[uber_values]\n",
    "lyft_values = rideshare_df['cab_type'] == 'Lyft'\n",
    "lyft_days = rideshare_df[lyft_values]\n",
    "\n",
    "#grouping uber by day and plotting\n",
    "uber_days_grouped = uber_days.groupby(['day'])\n",
    "uber_day_count = uber_days_grouped.count() / 1000\n",
    "uber_day_count['id'].plot(kind = 'bar', alpha = 0.75, align = 'center', color = 'r')\n",
    "\n",
    "#grouping lyft by day and plotting\n",
    "lyft_days_grouped = lyft_days.groupby(['day'])\n",
    "lyft_day_count = lyft_days_grouped.count() / 1000\n",
    "lyft_day_count['id'].plot(kind = 'bar', alpha = 0.75, align = 'center', color = 'b')\n",
    "\n",
    "#labeling graph\n",
    "plt.xlabel('Day of Month')\n",
    "plt.ylabel('Number of Rides Per 1000')\n",
    "plt.title('Bar Chart of the Number of Rides Given for Lyft and Uber on Each Day of Month')\n",
    "plt.tight_layout()\n",
    "plt.legend(['Uber', 'Lyft'])\n"
   ]
  },
  {
   "cell_type": "code",
   "execution_count": null,
   "metadata": {},
   "outputs": [],
   "source": [
    "ride_split = (uber_day_count - lyft_day_count) / lyft_day_count * 100\n",
    "ride_split['id'].plot(kind = 'bar', alpha = 0.75, align = 'center', color = 'g')\n",
    "\n",
    "plt.xlabel('Day of Month')\n",
    "plt.ylim(20,30)\n",
    "plt.ylabel('Percent Difference')\n",
    "plt.title('Higher Percentage of Daily Uber Usage vs Lyft')\n",
    "plt.tight_layout()"
   ]
  },
  {
   "cell_type": "code",
   "execution_count": null,
   "metadata": {},
   "outputs": [],
   "source": []
  },
  {
   "cell_type": "code",
   "execution_count": null,
   "metadata": {},
   "outputs": [],
   "source": [
    "#Spencer's code \n",
    "#group by destination and get counts to create a bar graph that will show what frequently each destination in used.\n",
    "grouped_destination = rideshare_df.groupby(['destination'])\n",
    "dest_count = grouped_destination.count()\n",
    "#simple bar graph created with title and labels\n",
    "dest_count['id'].plot(kind = 'bar', alpha = 0.75, align = 'center', color = 'k')\n",
    "plt.xlabel('Drop off Point')\n",
    "plt.ylabel('Number of Rides')\n",
    "plt.title('Number of Rides to Different \\n Areas of Boston')\n",
    "plt.savefig('destination.png')"
   ]
  },
  {
   "cell_type": "code",
   "execution_count": null,
   "metadata": {},
   "outputs": [],
   "source": [
    "#chi-squared test on whether some destinations see more ride share traffic than others\n",
    "#create dataframe of the observed values for each drop off point\n",
    "chi_full_data = pd.DataFrame({'observed ride count':dest_count['id']})\n",
    "#create variables that will that will calculate expected values, assuming there is no difference between drop off points \n",
    "dest_total = len(chi_full_data)\n",
    "total_trips = chi_full_data['observed ride count'].sum()\n",
    "#Add expected values to dataframe\n",
    "chi_full_data['Expected ride count'] = total_trips / dest_total\n",
    "#run chi-squared test\n",
    "stats.chisquare(chi_full_data['observed ride count'], chi_full_data['Expected ride count'])"
   ]
  },
  {
   "cell_type": "code",
   "execution_count": null,
   "metadata": {},
   "outputs": [],
   "source": [
    "#create a a dataframe with the total count uber and lyft drop off points\n",
    "lyft_count = lyft_df.groupby(['destination']).count()\n",
    "uber_count = uber_df.groupby(['destination']).count()\n",
    "merge_count = pd.DataFrame({'Uber':uber_count['id'], 'Lyft':lyft_count['id']})\n",
    "#created stack graph to show how many dropoffs each service complete in each destination\n",
    "merge_count.plot(kind='bar', stacked =True, color = ['k','r'], alpha = .75)\n",
    "plt.xlabel('Drop off point')\n",
    "plt.ylabel('Number of Rides')\n",
    "plt.title('Stacked Bar Chart of the Number of rides to each \\n Drop off point for Lyft and Uber')\n",
    "plt.tight_layout()\n",
    "plt.savefig('stacked_destination.png')"
   ]
  },
  {
   "cell_type": "code",
   "execution_count": null,
   "metadata": {},
   "outputs": [],
   "source": [
    "#run chi_squared test to see if the difference between services is expected or not\n",
    "#calculate observed difference in drop offs by each service in each destination\n",
    "merge_count['observed difference'] = merge_count['Uber']-merge_count['Lyft']\n",
    "#calculate expected difference between the two services in each area if destination has no affect\n",
    "difference_total = merge_count['observed difference'].sum()\n",
    "expected = difference_total / dest_total\n",
    "merge_count['expected difference'] = expected\n",
    "#run chi-squared test\n",
    "stats.chisquare(merge_count['observed difference'], merge_count['expected difference'])"
   ]
  },
  {
   "cell_type": "code",
   "execution_count": null,
   "metadata": {},
   "outputs": [],
   "source": []
  },
  {
   "cell_type": "code",
   "execution_count": null,
   "metadata": {},
   "outputs": [],
   "source": []
  },
  {
   "cell_type": "code",
   "execution_count": null,
   "metadata": {},
   "outputs": [],
   "source": [
    "#Rory's code\n"
   ]
  },
  {
   "cell_type": "code",
   "execution_count": null,
   "metadata": {},
   "outputs": [],
   "source": []
  }
 ],
 "metadata": {
  "kernelspec": {
   "display_name": "Python 3",
   "language": "python",
   "name": "python3"
  },
  "language_info": {
   "codemirror_mode": {
    "name": "ipython",
    "version": 3
   },
   "file_extension": ".py",
   "mimetype": "text/x-python",
   "name": "python",
   "nbconvert_exporter": "python",
   "pygments_lexer": "ipython3",
   "version": "3.6.9"
  }
 },
 "nbformat": 4,
 "nbformat_minor": 2
}
