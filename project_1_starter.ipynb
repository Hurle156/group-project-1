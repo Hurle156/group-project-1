{
 "cells": [
  {
   "cell_type": "code",
   "execution_count": null,
   "metadata": {},
   "outputs": [],
   "source": [
    "import pandas as pd\n",
    "import matplotlib.pyplot as plt\n",
    "import numpy as np\n",
    "\n",
    "rideshare_df = pd.read_csv('Data_files/rideshare_data.csv')"
   ]
  },
  {
   "cell_type": "code",
   "execution_count": null,
   "metadata": {},
   "outputs": [],
   "source": [
    "#Spencer's code \n"
   ]
  },
  {
   "cell_type": "code",
   "execution_count": null,
   "metadata": {},
   "outputs": [],
   "source": [
    "#Adam's code"
   ]
  },
  {
   "cell_type": "code",
   "execution_count": null,
   "metadata": {},
   "outputs": [],
   "source": [
    "#Rory's code\n",
    "rideshare_df.head()"
   ]
  },
  {
   "cell_type": "code",
   "execution_count": null,
   "metadata": {},
   "outputs": [],
   "source": [
    "# Final DataFrame\n",
    "final_uber_lyft_df = rideshare_df[[\"id\", \"cab_type\", \"name\", \"price\", \"distance\"]]\n",
    "final_uber_lyft_df.head()"
   ]
  },
  {
   "cell_type": "code",
   "execution_count": null,
   "metadata": {},
   "outputs": [],
   "source": [
    "# Sort DataFrame\n",
    "#final_uber_lyft_df.sort_values(['cab_type','name'], ascending=True)\n",
    "final_uber_lyft_df.sort_values(['cab_type','name'], ascending=[1,0])"
   ]
  },
  {
   "cell_type": "code",
   "execution_count": null,
   "metadata": {},
   "outputs": [],
   "source": []
  },
  {
   "cell_type": "code",
   "execution_count": null,
   "metadata": {},
   "outputs": [],
   "source": [
    "final_uber_lyft_df = final_uber_lyft_df.loc[  (final_uber_lyft_df['name'] != \"Shared\") \n",
    "                       & (final_uber_lyft_df['name'] != \"Taxi\")\n",
    "                       & (final_uber_lyft_df['name'] != \"Lyft\") \n",
    "                       & (final_uber_lyft_df['name'] != \"UberPool\")\n",
    "                       & (final_uber_lyft_df['name'] != \"WAV\")]"
   ]
  },
  {
   "cell_type": "code",
   "execution_count": null,
   "metadata": {},
   "outputs": [],
   "source": []
  },
  {
   "cell_type": "code",
   "execution_count": null,
   "metadata": {},
   "outputs": [],
   "source": [
    "# Save as a csv\n",
    "# Note to avoid any issues later, use encoding=\"utf-8\"\n",
    "final_uber_lyft_df.to_csv(\"uber_lyft_filtered.csv\", encoding=\"utf-8\", index=False)"
   ]
  },
  {
   "cell_type": "code",
   "execution_count": null,
   "metadata": {},
   "outputs": [],
   "source": []
  },
  {
   "cell_type": "code",
   "execution_count": null,
   "metadata": {},
   "outputs": [],
   "source": [
    "grouped_df = final_uber_lyft_df.groupby(['name']).mean()"
   ]
  },
  {
   "cell_type": "code",
   "execution_count": null,
   "metadata": {},
   "outputs": [],
   "source": [
    "width = 0.25\n",
    "grouped_df['price'].plot(kind = 'bar', color = 'k', width=width)"
   ]
  },
  {
   "cell_type": "code",
   "execution_count": null,
   "metadata": {},
   "outputs": [],
   "source": [
    "#grouped_df['distance'].plot(kind = 'bar', color = 'k')"
   ]
  },
  {
   "cell_type": "code",
   "execution_count": null,
   "metadata": {},
   "outputs": [],
   "source": [
    "x = final_uber_lyft_df['name']\n",
    "y = final_uber_lyft_df['price']\n",
    "#width = 0.25\n",
    "#x_indexes = np.arange(len(x))\n",
    "#plt.plot(x,y,label='First Line')\n",
    "#plt.(x_indexes, y, color=\"k\",width=width)\n",
    "grouped_df.plot(kind='bar', align='center', color='b')\n",
    "plt.xlabel('Specific Cab Type/Name')\n",
    "plt.ylabel('Price')\n",
    "plt.title('Uber-Lyft data Lux-Black-XL only')\n",
    "#plt.legend()\n",
    "#plt.xticks(ticks=x_indexes, labels=x)\n",
    "#plt.show()"
   ]
  },
  {
   "cell_type": "code",
   "execution_count": null,
   "metadata": {},
   "outputs": [],
   "source": []
  }
 ],
 "metadata": {
  "kernelspec": {
   "display_name": "Python 3",
   "language": "python",
   "name": "python3"
  },
  "language_info": {
   "codemirror_mode": {
    "name": "ipython",
    "version": 3
   },
   "file_extension": ".py",
   "mimetype": "text/x-python",
   "name": "python",
   "nbconvert_exporter": "python",
   "pygments_lexer": "ipython3",
   "version": "3.7.4"
  }
 },
 "nbformat": 4,
 "nbformat_minor": 2
}
