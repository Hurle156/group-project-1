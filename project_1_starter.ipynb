{
 "cells": [
  {
   "cell_type": "code",
   "execution_count": 1,
   "metadata": {},
   "outputs": [],
   "source": [
    "#import statements\n",
    "import pandas as pd\n",
    "import matplotlib.pyplot as plt\n",
    "import numpy as np\n",
    "import scipy.stats as stats\n",
    "\n",
    "#load data sets into dataframes\n",
    "lyft_df = pd.read_csv('Data_files/lyft.csv')\n",
    "rideshare_df = pd.read_csv('Data_files/rideshare_data.csv')\n",
    "uber_df = pd.read_csv('Data_files/uber.csv')\n"
   ]
  },
  {
   "cell_type": "code",
   "execution_count": 31,
   "metadata": {},
   "outputs": [
    {
     "data": {
      "text/html": [
       "<div>\n",
       "<style scoped>\n",
       "    .dataframe tbody tr th:only-of-type {\n",
       "        vertical-align: middle;\n",
       "    }\n",
       "\n",
       "    .dataframe tbody tr th {\n",
       "        vertical-align: top;\n",
       "    }\n",
       "\n",
       "    .dataframe thead th {\n",
       "        text-align: right;\n",
       "    }\n",
       "</style>\n",
       "<table border=\"1\" class=\"dataframe\">\n",
       "  <thead>\n",
       "    <tr style=\"text-align: right;\">\n",
       "      <th></th>\n",
       "      <th>id</th>\n",
       "      <th>hour</th>\n",
       "      <th>day</th>\n",
       "      <th>month</th>\n",
       "      <th>source</th>\n",
       "      <th>destination</th>\n",
       "      <th>cab_type</th>\n",
       "      <th>name</th>\n",
       "      <th>price</th>\n",
       "      <th>distance</th>\n",
       "      <th>...</th>\n",
       "      <th>visibility</th>\n",
       "      <th>temperatureHigh</th>\n",
       "      <th>temperatureLow</th>\n",
       "      <th>dewPoint</th>\n",
       "      <th>windBearing</th>\n",
       "      <th>cloudCover</th>\n",
       "      <th>uvIndex</th>\n",
       "      <th>visibility.1</th>\n",
       "      <th>moonPhase</th>\n",
       "      <th>weekday</th>\n",
       "    </tr>\n",
       "  </thead>\n",
       "  <tbody>\n",
       "    <tr>\n",
       "      <th>0</th>\n",
       "      <td>009e9c53-074d-43cf-aef2-0fbc7a47ed3d</td>\n",
       "      <td>22</td>\n",
       "      <td>30</td>\n",
       "      <td>11</td>\n",
       "      <td>North End</td>\n",
       "      <td>West End</td>\n",
       "      <td>Uber</td>\n",
       "      <td>UberXL</td>\n",
       "      <td>12.0</td>\n",
       "      <td>1.11</td>\n",
       "      <td>...</td>\n",
       "      <td>9.833</td>\n",
       "      <td>42.52</td>\n",
       "      <td>31.71</td>\n",
       "      <td>27.31</td>\n",
       "      <td>281</td>\n",
       "      <td>1.00</td>\n",
       "      <td>0</td>\n",
       "      <td>9.833</td>\n",
       "      <td>0.79</td>\n",
       "      <td>Fri</td>\n",
       "    </tr>\n",
       "    <tr>\n",
       "      <th>1</th>\n",
       "      <td>23f145da-f0c1-4d1f-a184-496bc003a7db</td>\n",
       "      <td>10</td>\n",
       "      <td>13</td>\n",
       "      <td>12</td>\n",
       "      <td>North End</td>\n",
       "      <td>West End</td>\n",
       "      <td>Uber</td>\n",
       "      <td>Black</td>\n",
       "      <td>16.0</td>\n",
       "      <td>1.11</td>\n",
       "      <td>...</td>\n",
       "      <td>9.831</td>\n",
       "      <td>33.83</td>\n",
       "      <td>27.27</td>\n",
       "      <td>10.87</td>\n",
       "      <td>2</td>\n",
       "      <td>0.03</td>\n",
       "      <td>0</td>\n",
       "      <td>9.831</td>\n",
       "      <td>0.21</td>\n",
       "      <td>Thu</td>\n",
       "    </tr>\n",
       "    <tr>\n",
       "      <th>2</th>\n",
       "      <td>357559cb-8c58-4278-a41a-e33b2e0997a3</td>\n",
       "      <td>19</td>\n",
       "      <td>13</td>\n",
       "      <td>12</td>\n",
       "      <td>North End</td>\n",
       "      <td>West End</td>\n",
       "      <td>Uber</td>\n",
       "      <td>UberX</td>\n",
       "      <td>7.5</td>\n",
       "      <td>1.11</td>\n",
       "      <td>...</td>\n",
       "      <td>9.959</td>\n",
       "      <td>33.83</td>\n",
       "      <td>27.27</td>\n",
       "      <td>18.66</td>\n",
       "      <td>76</td>\n",
       "      <td>0.64</td>\n",
       "      <td>0</td>\n",
       "      <td>9.959</td>\n",
       "      <td>0.21</td>\n",
       "      <td>Thu</td>\n",
       "    </tr>\n",
       "    <tr>\n",
       "      <th>3</th>\n",
       "      <td>50ef1165-9d23-416c-a65c-18906207b295</td>\n",
       "      <td>23</td>\n",
       "      <td>16</td>\n",
       "      <td>12</td>\n",
       "      <td>North End</td>\n",
       "      <td>West End</td>\n",
       "      <td>Uber</td>\n",
       "      <td>WAV</td>\n",
       "      <td>7.5</td>\n",
       "      <td>1.11</td>\n",
       "      <td>...</td>\n",
       "      <td>4.054</td>\n",
       "      <td>43.83</td>\n",
       "      <td>34.25</td>\n",
       "      <td>37.56</td>\n",
       "      <td>57</td>\n",
       "      <td>1.00</td>\n",
       "      <td>0</td>\n",
       "      <td>4.054</td>\n",
       "      <td>0.30</td>\n",
       "      <td>Sun</td>\n",
       "    </tr>\n",
       "    <tr>\n",
       "      <th>4</th>\n",
       "      <td>91c4861c-1780-42b0-bca1-bbd64a422cc3</td>\n",
       "      <td>0</td>\n",
       "      <td>14</td>\n",
       "      <td>12</td>\n",
       "      <td>North End</td>\n",
       "      <td>West End</td>\n",
       "      <td>Uber</td>\n",
       "      <td>Black SUV</td>\n",
       "      <td>26.0</td>\n",
       "      <td>1.11</td>\n",
       "      <td>...</td>\n",
       "      <td>10.000</td>\n",
       "      <td>33.83</td>\n",
       "      <td>27.27</td>\n",
       "      <td>20.53</td>\n",
       "      <td>173</td>\n",
       "      <td>0.91</td>\n",
       "      <td>0</td>\n",
       "      <td>10.000</td>\n",
       "      <td>0.21</td>\n",
       "      <td>Fri</td>\n",
       "    </tr>\n",
       "  </tbody>\n",
       "</table>\n",
       "<p>5 rows × 28 columns</p>\n",
       "</div>"
      ],
      "text/plain": [
       "                                     id  hour  day  month     source  \\\n",
       "0  009e9c53-074d-43cf-aef2-0fbc7a47ed3d    22   30     11  North End   \n",
       "1  23f145da-f0c1-4d1f-a184-496bc003a7db    10   13     12  North End   \n",
       "2  357559cb-8c58-4278-a41a-e33b2e0997a3    19   13     12  North End   \n",
       "3  50ef1165-9d23-416c-a65c-18906207b295    23   16     12  North End   \n",
       "4  91c4861c-1780-42b0-bca1-bbd64a422cc3     0   14     12  North End   \n",
       "\n",
       "  destination cab_type       name  price  distance  ...  visibility  \\\n",
       "0    West End     Uber     UberXL   12.0      1.11  ...       9.833   \n",
       "1    West End     Uber      Black   16.0      1.11  ...       9.831   \n",
       "2    West End     Uber      UberX    7.5      1.11  ...       9.959   \n",
       "3    West End     Uber        WAV    7.5      1.11  ...       4.054   \n",
       "4    West End     Uber  Black SUV   26.0      1.11  ...      10.000   \n",
       "\n",
       "   temperatureHigh  temperatureLow dewPoint  windBearing  cloudCover  uvIndex  \\\n",
       "0            42.52           31.71    27.31          281        1.00        0   \n",
       "1            33.83           27.27    10.87            2        0.03        0   \n",
       "2            33.83           27.27    18.66           76        0.64        0   \n",
       "3            43.83           34.25    37.56           57        1.00        0   \n",
       "4            33.83           27.27    20.53          173        0.91        0   \n",
       "\n",
       "   visibility.1  moonPhase  weekday  \n",
       "0         9.833       0.79      Fri  \n",
       "1         9.831       0.21      Thu  \n",
       "2         9.959       0.21      Thu  \n",
       "3         4.054       0.30      Sun  \n",
       "4        10.000       0.21      Fri  \n",
       "\n",
       "[5 rows x 28 columns]"
      ]
     },
     "execution_count": 31,
     "metadata": {},
     "output_type": "execute_result"
    }
   ],
   "source": [
    "#check headers for variable names\n",
    "uber_df.head()"
   ]
  },
  {
   "cell_type": "code",
   "execution_count": 30,
   "metadata": {},
   "outputs": [
    {
     "data": {
      "text/plain": [
       "Text(0.5, 1.0, 'Number of Rides to Different Areas of Boston')"
      ]
     },
     "execution_count": 30,
     "metadata": {},
     "output_type": "execute_result"
    },
    {
     "data": {
      "image/png": "[encoded data removed]",
      "text/plain": [
       "<Figure size 432x288 with 1 Axes>"
      ]
     },
     "metadata": {
      "needs_background": "light"
     },
     "output_type": "display_data"
    }
   ],
   "source": [
    "#Spencer's code \n",
    "#group by destination and get counts to create a bar graph that will show what frequently each destination in used.\n",
    "grouped_destination = rideshare_df.groupby(['destination'])\n",
    "dest_count = grouped_destination.count()\n",
    "#simple bar graph created with title and labels\n",
    "dest_count['id'].plot(kind = 'bar', alpha = 0.75, align = 'center', color = 'k')\n",
    "plt.xlabel('Drop off Point')\n",
    "plt.ylabel('Number of Rides')\n",
    "plt.title('Number of Rides to Different Areas of Boston')\n",
    "\n"
   ]
  },
  {
   "cell_type": "code",
   "execution_count": 27,
   "metadata": {},
   "outputs": [
    {
     "data": {
      "text/plain": [
       "Power_divergenceResult(statistic=30.554149574863185, pvalue=0.0012960638184287632)"
      ]
     },
     "execution_count": 27,
     "metadata": {},
     "output_type": "execute_result"
    }
   ],
   "source": [
    "#chi-squared test on whether some destinations see more ride share traffic than others\n",
    "#create dataframe of the observed values for each drop off point\n",
    "chi_full_data = pd.DataFrame({'observed ride count':dest_count['id']})\n",
    "#create variables that will that will calculate expected values, assuming there is no difference between drop off points \n",
    "dest_total = len(chi_full_data)\n",
    "total_trips = chi_full_data['observed ride count'].sum()\n",
    "#Add expected values to dataframe\n",
    "chi_full_data['Expected ride count'] = total_trips / dest_total\n",
    "#run chi-squared test\n",
    "stats.chisquare(chi_full_data['observed ride count'], chi_full_data['Expected ride count'])"
   ]
  },
  {
   "cell_type": "code",
   "execution_count": 28,
   "metadata": {},
   "outputs": [
    {
     "data": {
      "image/png": "[encoded data removed]",
      "text/plain": [
       "<Figure size 432x288 with 1 Axes>"
      ]
     },
     "metadata": {
      "needs_background": "light"
     },
     "output_type": "display_data"
    }
   ],
   "source": [
    "#create a a dataframe with the total count uber and lyft drop off points\n",
    "lyft_count = lyft_df.groupby(['destination']).count()\n",
    "uber_count = uber_df.groupby(['destination']).count()\n",
    "merge_count = pd.DataFrame({'Uber':uber_count['id'], 'Lyft':lyft_count['id']})\n",
    "#created stack graph to show how many dropoffs each service complete in each destination\n",
    "merge_count.plot(kind='bar', stacked =True, color = ['k','r'], alpha = .75)\n",
    "plt.xlabel('Drop off point')\n",
    "plt.ylabel('Number of Rides')\n",
    "plt.title('Stacked Bar Chart of the Number of rides to each Drop off point for Lyft and Uber')\n",
    "plt.tight_layout()"
   ]
  },
  {
   "cell_type": "code",
   "execution_count": 29,
   "metadata": {},
   "outputs": [
    {
     "data": {
      "text/plain": [
       "Power_divergenceResult(statistic=11.523595936361893, pvalue=0.40049567568513944)"
      ]
     },
     "execution_count": 29,
     "metadata": {},
     "output_type": "execute_result"
    }
   ],
   "source": [
    "#run chi_squared test to see if the difference between services is expected or not\n",
    "#calculate observed difference in drop offs by each service in each destination\n",
    "merge_count['observed difference'] = merge_count['Uber']-merge_count['Lyft']\n",
    "#calculate expected difference between the two services in each area if destination has no affect\n",
    "difference_total = merge_count['observed difference'].sum()\n",
    "expected = difference_total / dest_total\n",
    "merge_count['expected difference'] = expected\n",
    "#run chi-squared test\n",
    "stats.chisquare(merge_count['observed difference'], merge_count['expected difference'])"
   ]
  },
  {
   "cell_type": "code",
   "execution_count": null,
   "metadata": {},
   "outputs": [],
   "source": [
    "#Adam's code"
   ]
  },
  {
   "cell_type": "code",
   "execution_count": null,
   "metadata": {},
   "outputs": [],
   "source": [
    "#Rory's code\n"
   ]
  },
  {
   "cell_type": "code",
   "execution_count": null,
   "metadata": {},
   "outputs": [],
   "source": []
  }
 ],
 "metadata": {
  "kernelspec": {
   "display_name": "Python 3",
   "language": "python",
   "name": "python3"
  },
  "language_info": {
   "codemirror_mode": {
    "name": "ipython",
    "version": 3
   },
   "file_extension": ".py",
   "mimetype": "text/x-python",
   "name": "python",
   "nbconvert_exporter": "python",
   "pygments_lexer": "ipython3",
   "version": "3.6.9"
  }
 },
 "nbformat": 4,
 "nbformat_minor": 2
}
